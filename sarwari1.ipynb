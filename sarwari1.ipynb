{
 "cells": [
  {
   "cell_type": "markdown",
   "source": [
    "## This is my Jupyter Notebook!"
   ],
   "metadata": {}
  },
  {
   "cell_type": "markdown",
   "source": [
    "wooo"
   ],
   "metadata": {}
  },
  {
   "cell_type": "markdown",
   "source": [
    "THIS IS THE CHANGE I AM MAKING"
   ],
   "metadata": {}
  },
  {
   "cell_type": "markdown",
   "source": [
    "making more changes"
   ],
   "metadata": {}
  }
 ],
 "metadata": {
  "orig_nbformat": 4,
  "language_info": {
   "name": "python",
   "version": "3.9.0",
   "mimetype": "text/x-python",
   "codemirror_mode": {
    "name": "ipython",
    "version": 3
   },
   "pygments_lexer": "ipython3",
   "nbconvert_exporter": "python",
   "file_extension": ".py"
  },
  "kernelspec": {
   "name": "python3",
   "display_name": "Python 3.9.0 64-bit ('venv1': conda)"
  },
  "interpreter": {
   "hash": "7a6d299408f2023e0a200d93f96af30feb246c6cc222adc42d2612aa5ba88688"
  }
 },
 "nbformat": 4,
 "nbformat_minor": 2
}